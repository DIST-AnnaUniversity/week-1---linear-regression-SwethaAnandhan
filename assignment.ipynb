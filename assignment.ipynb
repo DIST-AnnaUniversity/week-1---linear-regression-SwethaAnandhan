{
  "nbformat": 4,
  "nbformat_minor": 0,
  "metadata": {
    "colab": {
      "provenance": [],
      "collapsed_sections": []
    },
    "kernelspec": {
      "name": "python3",
      "display_name": "Python 3"
    },
    "language_info": {
      "name": "python"
    }
  },
  "cells": [
    {
      "cell_type": "markdown",
      "source": [
        "28. Draw a scatter plot of the data."
      ],
      "metadata": {
        "id": "5VbJ9EwMl-kD"
      }
    },
    {
      "cell_type": "code",
      "execution_count": 2,
      "metadata": {
        "colab": {
          "base_uri": "https://localhost:8080/",
          "height": 265
        },
        "id": "00MgkVmDde9-",
        "outputId": "319e15b6-8ef7-4171-9c3d-5e15371c6a1b"
      },
      "outputs": [
        {
          "output_type": "display_data",
          "data": {
            "text/plain": [
              "<Figure size 432x288 with 1 Axes>"
            ],
            "image/png": "[encoded data removed]"
          },
          "metadata": {
            "needs_background": "light"
          }
        }
      ],
      "source": [
        "import matplotlib.pyplot as plt\n",
        "\n",
        "x = [0,3,2,1,5,5,4,3,0,4]\n",
        "y = [2,8,7,3,13,12,9,9,3,10]\n",
        "\n",
        "plt.scatter(x, y)\n",
        "plt.show()"
      ]
    },
    {
      "cell_type": "markdown",
      "source": [
        "29. Use regression to find the equation for the line of best fit."
      ],
      "metadata": {
        "id": "k7i2WTCImHFT"
      }
    },
    {
      "cell_type": "code",
      "source": [
        "import numpy as np\n",
        "import matplotlib.pyplot as plt\n",
        "\n",
        "from sklearn.linear_model import LinearRegression\n",
        "from sklearn.metrics import mean_squared_error, r2_score\n",
        "import statsmodels.api as sm\n",
        "x = np.array([0,3,2,1,5,5,4,3,0,4])\n",
        "y = np.array([2,8,7,3,13,12,9,9,3,10])\n",
        "n = np.size(x)\n",
        "\n",
        "x_mean = np.mean(x)\n",
        "y_mean = np.mean(y)\n",
        "x_mean,y_mean\n",
        "\n",
        "Sxy = np.sum(x*y)- n*x_mean*y_mean\n",
        "Sxx = np.sum(x*x)-n*x_mean*x_mean\n",
        "\n",
        "b1 = Sxy/Sxx\n",
        "b0 = y_mean-b1*x_mean\n",
        "print('slope b1 is', b1)\n",
        "print('intercept b0 is', b0)\n",
        "\n",
        "plt.scatter(x,y)\n",
        "plt.xlabel('Independent variable X')\n",
        "plt.ylabel('Dependent variable y')"
      ],
      "metadata": {
        "colab": {
          "base_uri": "https://localhost:8080/",
          "height": 331
        },
        "id": "fB93xyHfhG_6",
        "outputId": "d4978660-d8ac-4f73-e99c-9aa53bb4eb3a"
      },
      "execution_count": 7,
      "outputs": [
        {
          "output_type": "stream",
          "name": "stdout",
          "text": [
            "slope b1 is 1.9875389408099695\n",
            "intercept b0 is 2.233644859813082\n"
          ]
        },
        {
          "output_type": "execute_result",
          "data": {
            "text/plain": [
              "Text(0, 0.5, 'Dependent variable y')"
            ]
          },
          "metadata": {},
          "execution_count": 7
        },
        {
          "output_type": "display_data",
          "data": {
            "text/plain": [
              "<Figure size 432x288 with 1 Axes>"
            ],
            "image/png": "[encoded data removed]"
          },
          "metadata": {
            "needs_background": "light"
          }
        }
      ]
    },
    {
      "cell_type": "markdown",
      "source": [
        "30.Draw the line of best fit on the scatter plot."
      ],
      "metadata": {
        "id": "VuAOV7b_lwSz"
      }
    },
    {
      "cell_type": "code",
      "source": [
        "import matplotlib.pyplot as plt\n",
        "from scipy import stats\n",
        "\n",
        "x = [0,3,2,1,5,5,4,3,0,4]\n",
        "y = [2,8,7,3,13,12,9,9,3,10]\n",
        "\n",
        "slope, intercept, r, p, std_err = stats.linregress(x, y)\n",
        "\n",
        "def myfunc(x):\n",
        "  return slope * x + intercept\n",
        "\n",
        "mymodel = list(map(myfunc, x))\n",
        "\n",
        "plt.scatter(x, y)\n",
        "plt.plot(x, mymodel)\n",
        "plt.show()"
      ],
      "metadata": {
        "colab": {
          "base_uri": "https://localhost:8080/",
          "height": 265
        },
        "id": "WVQxoZsoeMue",
        "outputId": "5b344174-9a75-44e1-c332-af519d562dd4"
      },
      "execution_count": 3,
      "outputs": [
        {
          "output_type": "display_data",
          "data": {
            "text/plain": [
              "<Figure size 432x288 with 1 Axes>"
            ],
            "image/png": "[encoded data removed]"
          },
          "metadata": {
            "needs_background": "light"
          }
        }
      ]
    },
    {
      "cell_type": "markdown",
      "source": [
        "31. What is the slope of the line of best fit? What does it represent?\n",
        "\n",
        "The slope is 1.99 (b1 = 1.99). It means that for every endorsement deal a professional player gets, he gets an average of another 💲1.99 million in pay each year."
      ],
      "metadata": {
        "id": "zTuZTCUxkkwS"
      }
    },
    {
      "cell_type": "markdown",
      "source": [
        "32. What is the y-intercept of the line of best fit? What does it represent?\n",
        "It means that there is no correlation between the data sets."
      ],
      "metadata": {
        "id": "_6QbkOK4lcBL"
      }
    },
    {
      "cell_type": "markdown",
      "source": [
        "33.What does an r value of zero mean?\n",
        "\n",
        "It means that there is no correlation between the data sets."
      ],
      "metadata": {
        "id": "fA5nNA3Fk6wq"
      }
    },
    {
      "cell_type": "markdown",
      "source": [
        "34. When n = 2 and r = 1, are the data significant? Explain.\n",
        "\n",
        "35. When n = 100 and r = -0.89, is there a significant correlation? Explain.\n",
        "\n",
        "Yes, there are enough data points and the value of r is strong enough to show that there is a strong negative correlation between the data sets."
      ],
      "metadata": {
        "id": "P25l5R-KlLGC"
      }
    }
  ]
}